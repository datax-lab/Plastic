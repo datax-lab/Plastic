{
 "cells": [
  {
   "cell_type": "code",
   "execution_count": 1,
   "id": "6f312502-a392-45ce-90db-ae5116f8edeb",
   "metadata": {},
   "outputs": [],
   "source": [
    "import pandas as pd \n",
    "import os \n",
    "import numpy as np\n",
    "import pickle\n",
    "from sklearn.preprocessing import OneHotEncoder\n",
    "from sklearn.model_selection import StratifiedKFold\n",
    "from sklearn.preprocessing import LabelEncoder\n",
    "import json\n",
    "\n",
    "pd.options.mode.chained_assignment = None"
   ]
  },
  {
   "cell_type": "code",
   "execution_count": 2,
   "id": "9295b266-fa0e-437c-8067-d61a1dd26701",
   "metadata": {},
   "outputs": [],
   "source": [
    "data = pd.read_csv('data/data_for_CV.csv', index_col=None)"
   ]
  },
  {
   "cell_type": "code",
   "execution_count": 3,
   "id": "30eafd4d-f9ca-478d-b269-2b047d489c69",
   "metadata": {},
   "outputs": [],
   "source": [
    "test = pd.read_excel('data/Identified_Datasheet.xlsx')"
   ]
  },
  {
   "cell_type": "code",
   "execution_count": 4,
   "id": "9ec249c0-3555-4ef3-b1a7-9200c9d493f1",
   "metadata": {},
   "outputs": [],
   "source": [
    "test = test[['Unnamed: 5', 'Total : 181']]\n",
    "test['seq'] = test['Unnamed: 5']\n",
    "test['label'] = test['Total : 181']\n",
    "test.drop(columns=['Unnamed: 5', 'Total : 181'], inplace=True)\n",
    "test = test.iloc[4:]\n",
    "test.label = test.label.apply(lambda x : str(x))"
   ]
  },
  {
   "cell_type": "code",
   "execution_count": 5,
   "id": "cdc7e153-d5b0-4992-8b05-aceeb420c2d3",
   "metadata": {},
   "outputs": [],
   "source": [
    "data.label = data.label.apply(lambda x : [int(i) for i in x[1:-1].split(', ')])\n",
    "test.label = test.label.apply(lambda x : [int(i) for i in x.split(',')])"
   ]
  },
  {
   "cell_type": "code",
   "execution_count": 6,
   "id": "6776c587-eeb2-4a89-9c1b-8fa878b58223",
   "metadata": {},
   "outputs": [
    {
     "data": {
      "text/html": [
       "<div>\n",
       "<style scoped>\n",
       "    .dataframe tbody tr th:only-of-type {\n",
       "        vertical-align: middle;\n",
       "    }\n",
       "\n",
       "    .dataframe tbody tr th {\n",
       "        vertical-align: top;\n",
       "    }\n",
       "\n",
       "    .dataframe thead th {\n",
       "        text-align: right;\n",
       "    }\n",
       "</style>\n",
       "<table border=\"1\" class=\"dataframe\">\n",
       "  <thead>\n",
       "    <tr style=\"text-align: right;\">\n",
       "      <th></th>\n",
       "      <th>seq</th>\n",
       "      <th>label</th>\n",
       "    </tr>\n",
       "  </thead>\n",
       "  <tbody>\n",
       "    <tr>\n",
       "      <th>0</th>\n",
       "      <td>MKHPYGYRWHWLYALVVTLMTALATFSAHAAVTAGPGAWSSQQTWA...</td>\n",
       "      <td>[9, 10]</td>\n",
       "    </tr>\n",
       "    <tr>\n",
       "      <th>1</th>\n",
       "      <td>MKHPYGYRWHWLYALVVTLMTALATLSAHAAVTAGPGAWSSQQTWA...</td>\n",
       "      <td>[9, 10]</td>\n",
       "    </tr>\n",
       "    <tr>\n",
       "      <th>2</th>\n",
       "      <td>MKHPYGYRWHWLYALVVTLMTALATFSAHAAVTAGPGAWSSQQTWA...</td>\n",
       "      <td>[9, 10]</td>\n",
       "    </tr>\n",
       "    <tr>\n",
       "      <th>3</th>\n",
       "      <td>MARRLWRRIAGWLAACVAILCTFPLHAATAGPGAWSSQQTWAADAV...</td>\n",
       "      <td>[9, 10]</td>\n",
       "    </tr>\n",
       "    <tr>\n",
       "      <th>4</th>\n",
       "      <td>MQLLSRRQWRWLVGFFAALATTSALAAVTPGPGTWSAQQTWAADSV...</td>\n",
       "      <td>[9, 10]</td>\n",
       "    </tr>\n",
       "  </tbody>\n",
       "</table>\n",
       "</div>"
      ],
      "text/plain": [
       "                                                 seq    label\n",
       "0  MKHPYGYRWHWLYALVVTLMTALATFSAHAAVTAGPGAWSSQQTWA...  [9, 10]\n",
       "1  MKHPYGYRWHWLYALVVTLMTALATLSAHAAVTAGPGAWSSQQTWA...  [9, 10]\n",
       "2  MKHPYGYRWHWLYALVVTLMTALATFSAHAAVTAGPGAWSSQQTWA...  [9, 10]\n",
       "3  MARRLWRRIAGWLAACVAILCTFPLHAATAGPGAWSSQQTWAADAV...  [9, 10]\n",
       "4  MQLLSRRQWRWLVGFFAALATTSALAAVTPGPGTWSAQQTWAADSV...  [9, 10]"
      ]
     },
     "execution_count": 6,
     "metadata": {},
     "output_type": "execute_result"
    }
   ],
   "source": [
    "data.head()"
   ]
  },
  {
   "cell_type": "code",
   "execution_count": 7,
   "id": "a3a9c632-de8f-4f26-b898-ef05fe3c68fb",
   "metadata": {},
   "outputs": [],
   "source": [
    "def get_new_labels(y):\n",
    "    \"\"\" Convert each multilabel vector to a unique string \"\"\"\n",
    "    yy = [''.join(str(l)) for l in y]\n",
    "    y_new = LabelEncoder().fit_transform(yy)\n",
    "    return y_new"
   ]
  },
  {
   "cell_type": "code",
   "execution_count": 8,
   "id": "8302a710-7082-4a59-93cd-47631e69147d",
   "metadata": {},
   "outputs": [
    {
     "name": "stderr",
     "output_type": "stream",
     "text": [
      "/home/dumontet/conda/envs/venvlouis/lib/python3.9/site-packages/sklearn/model_selection/_split.py:676: UserWarning: The least populated class in y has only 1 members, which is less than n_splits=5.\n",
      "  warnings.warn(\n"
     ]
    }
   ],
   "source": [
    "kf = StratifiedKFold(n_splits=5, shuffle=True)\n",
    "data['fold'] = 0\n",
    "\n",
    "for i, (train_index, test_index) in enumerate(kf.split(data.seq, get_new_labels(data.label))):\n",
    "    data['fold'].iloc[test_index] = i"
   ]
  },
  {
   "cell_type": "code",
   "execution_count": 9,
   "id": "91b3178e-693b-40ac-baec-30753e975546",
   "metadata": {},
   "outputs": [],
   "source": [
    "class SequenceEncoding:\n",
    "    \n",
    "    encoding_types = ['One_hot_6_bit', 'Binary_5_bit', 'Hydrophobicity_matrix', \n",
    "                      'Meiler_parameters', 'Acthely_factors', 'PAM250', 'BLOSUM62', 'Miyazawa_energies', \n",
    "                      'Micheletti_potentials', 'AESNN3', 'ANN4D', 'ProtVec']\n",
    "    residue_types = ['A','C','D','E','F','G','H','I','K','L','M','N','P','Q','R','S','T','V','W','Y','X']\n",
    "    \n",
    "    def __init__(self, encoding_type=\"One_hot\"):\n",
    "        if encoding_type not in SequenceEncoding.encoding_types:\n",
    "            raise Exception(\"Encoding type \\'%s\\' not found\" % encoding_type)\n",
    "        self.encoding_type = encoding_type\n",
    "        with open(\"../../nasdatafolder/encodings/%s.json\" % self.encoding_type, 'r') as load_f:\n",
    "            self.encoding = json.load(load_f)\n",
    "\n",
    "    def get_ProtVec_encoding(self, ProtVec, seq):\n",
    "        return [ProtVec[seq[i:i+3]] if ProtVec.__contains__(seq[i:i+3]) else ProtVec[\"<unk>\"] for i in range(len(seq) - 2)]\n",
    "        \n",
    "    def get_encoding(self, seq):\n",
    "        encoding_data = []\n",
    "        if self.encoding_type == \"ProtVec\":            \n",
    "            encoding_data = self.get_ProtVec_encoding(self.encoding, seq)\n",
    "        else:\n",
    "            for res in seq:\n",
    "                if res not in SequenceEncoding.residue_types:\n",
    "                    res = \"X\"\n",
    "                encoding_data.append(self.encoding[res])\n",
    "                    \n",
    "        return np.array(encoding_data)"
   ]
  },
  {
   "cell_type": "code",
   "execution_count": 10,
   "id": "5996682c-fb6b-4314-9db6-1e3c703f1e98",
   "metadata": {},
   "outputs": [],
   "source": [
    "for encoding in ['One_hot_6_bit', 'Binary_5_bit', 'Hydrophobicity_matrix', 'Meiler_parameters', 'Acthely_factors', 'PAM250', 'BLOSUM62', 'Miyazawa_energies', \n",
    "                 'Micheletti_potentials', 'AESNN3', 'ANN4D', 'ProtVec'] :\n",
    "    \n",
    "    new_data = data.copy()\n",
    "    new_test = test.copy()\n",
    "    enc = SequenceEncoding(encoding)\n",
    "    \n",
    "    new_data.seq = new_data.seq.apply(lambda x : enc.get_encoding(x))\n",
    "    new_data.seq = new_data.seq.apply(lambda x : np.pad(x, [(0, 1000 - len(x)), (0, 0)], 'constant', constant_values=0))\n",
    "    new_test.seq = new_test.seq.apply(lambda x : enc.get_encoding(x))\n",
    "    new_test.seq = new_test.seq.apply(lambda x : np.pad(x, [(0, 1000 - len(x)), (0, 0)], 'constant', constant_values=0))\n",
    "                                      \n",
    "    new_binary = new_data.copy()\n",
    "    new_combined = new_data.copy() \n",
    "    \n",
    "    new_binary['label'] = new_binary.label.apply(lambda x : 0 if 13 in x else 1)\n",
    "    \n",
    "    new_data['positive'] = new_data.label.apply(lambda x : 0 if 13 in x else 1)\n",
    "    new_data = new_data[new_data.positive == 1].drop(columns=['positive'])\n",
    "    \n",
    "    encoder = OneHotEncoder()\n",
    "    encoder.fit(np.array([i for i in range(13)]).reshape(-1,1))\n",
    "    new_data.label = new_data.label.apply(lambda x : encoder.transform(np.array(x).reshape(-1, 1)).toarray()[0])\n",
    "    \n",
    "    encoder = OneHotEncoder()\n",
    "    encoder.fit(np.array([i for i in range(14)]).reshape(-1,1))\n",
    "    new_combined.label = new_combined.label.apply(lambda x : encoder.transform(np.array(x).reshape(-1, 1)).toarray()[0])\n",
    "    new_test.label = new_test.label.apply(lambda x : encoder.transform(np.array(x).reshape(-1, 1)).toarray()[0])\n",
    "    \n",
    "    new_data = new_data.to_numpy()\n",
    "    with open(f'./data/{encoding}_labels.npy', 'wb+') as f:\n",
    "        np.save(f, new_data)\n",
    "    \n",
    "    new_binary = new_binary.to_numpy()\n",
    "    with open(f'./data/{encoding}_binary.npy', 'wb+') as f:\n",
    "        np.save(f, new_binary)\n",
    "    \n",
    "    new_combined = new_combined.to_numpy()\n",
    "    with open(f'./data/{encoding}_combined.npy', 'wb+') as f:\n",
    "        np.save(f, new_combined)\n",
    "        \n",
    "    new_test = new_test.to_numpy()\n",
    "    with open(f'./data/{encoding}_test.npy', 'wb+') as f:\n",
    "        np.save(f, new_test)\n",
    "        \n",
    "    break"
   ]
  },
  {
   "cell_type": "code",
   "execution_count": 11,
   "id": "d885c24a-13d0-4f55-ba4f-2e20c797ddf2",
   "metadata": {},
   "outputs": [],
   "source": [
    "transformer_data = data.copy() \n",
    "transformer_test = test.copy()\n",
    "\n",
    "with open('../tokenizer.pickle', 'rb') as t :\n",
    "        tokenizer = pickle.load(t)\n",
    "\n",
    "transformer_data.seq = tokenizer.texts_to_sequences(transformer_data.seq)\n",
    "transformer_data.seq = transformer_data.seq.apply(lambda x : [22] + x + [0 for _ in range(999-len(x))])      \n",
    "transformer_test.seq = tokenizer.texts_to_sequences(transformer_test.seq)\n",
    "transformer_test.seq = transformer_test.seq.apply(lambda x : [22] + x + [0 for _ in range(999-len(x))])   \n",
    "\n",
    "transformer_binary = transformer_data.copy()\n",
    "transformer_combined = transformer_data.copy()\n",
    "\n",
    "transformer_binary['label'] = transformer_binary.label.apply(lambda x : 0 if 13 in x else 1)\n",
    "\n",
    "transformer_data['positive'] = transformer_data.label.apply(lambda x : 0 if 13 in x else 1)\n",
    "transformer_data = transformer_data[transformer_data.positive == 1].drop(columns=['positive'])\n",
    "\n",
    "encoder = OneHotEncoder()\n",
    "encoder.fit(np.array([i for i in range(13)]).reshape(-1,1))\n",
    "\n",
    "transformer_data.label = transformer_data.label.apply(lambda x : encoder.transform(np.array(x).reshape(-1, 1)).toarray()[0])\n",
    "\n",
    "transformer_binary = transformer_binary.to_numpy()\n",
    "\n",
    "encoder = OneHotEncoder()\n",
    "encoder.fit(np.array([i for i in range(14)]).reshape(-1,1))\n",
    "\n",
    "transformer_combined.label = transformer_combined.label.apply(lambda x : encoder.transform(np.array(x).reshape(-1, 1)).toarray()[0])\n",
    "transformer_test.label = transformer_test.label.apply(lambda x : encoder.transform(np.array(x).reshape(-1, 1)).toarray()[0])\n",
    "    \n",
    "with open(f'./data/transformer_binary.npy', 'wb+') as f:\n",
    "    np.save(f, transformer_binary)\n",
    "    \n",
    "transformer_data = transformer_data.to_numpy()\n",
    "    \n",
    "with open(f'./data/transformer_labels.npy', 'wb+') as f:\n",
    "    np.save(f, transformer_data)\n",
    "    \n",
    "transformer_combined = transformer_combined.to_numpy()\n",
    "    \n",
    "with open(f'./data/transformer_combined.npy', 'wb+') as f:\n",
    "    np.save(f, transformer_combined)\n",
    "    \n",
    "transformer_test = transformer_test.to_numpy()\n",
    "    \n",
    "with open(f'./data/transformer_test.npy', 'wb+') as f:\n",
    "    np.save(f, transformer_test)"
   ]
  },
  {
   "cell_type": "code",
   "execution_count": 12,
   "id": "d8a03d69-c81c-4d52-bb2b-c1e8ed015dcf",
   "metadata": {},
   "outputs": [],
   "source": [
    "data.seq = tokenizer.texts_to_sequences(data.seq)\n",
    "data.seq = data.seq.apply(lambda x : x + [0 for _ in range(1000-len(x))])\n",
    "test.seq = tokenizer.texts_to_sequences(test.seq)\n",
    "test.seq = test.seq.apply(lambda x : x + [0 for _ in range(1000-len(x))])"
   ]
  },
  {
   "cell_type": "code",
   "execution_count": 13,
   "id": "4799e79a-79d5-432a-82a0-b8b56962e3d1",
   "metadata": {},
   "outputs": [],
   "source": [
    "encoder = OneHotEncoder(handle_unknown='ignore')\n",
    "encoder.fit(np.array([i for i in range(1,22)]).reshape(-1,1))\n",
    "\n",
    "data.seq = data.seq.apply(lambda x : encoder.transform(np.array(x).reshape(-1, 1)).toarray())\n",
    "test.seq = test.seq.apply(lambda x : encoder.transform(np.array(x).reshape(-1, 1)).toarray())"
   ]
  },
  {
   "cell_type": "code",
   "execution_count": 14,
   "id": "8ce7169e-c52c-4126-988f-1945fd8e6104",
   "metadata": {},
   "outputs": [],
   "source": [
    "binary = data.copy()\n",
    "combined = data.copy()"
   ]
  },
  {
   "cell_type": "code",
   "execution_count": 15,
   "id": "28fb3bb4-d427-4b6e-9668-d49a7c4900b3",
   "metadata": {},
   "outputs": [],
   "source": [
    "binary['label'] = binary.label.apply(lambda x : 0 if 13 in x else 1)"
   ]
  },
  {
   "cell_type": "code",
   "execution_count": 16,
   "id": "2aaa5af6-d976-4eb2-a4e3-d8fcebb61861",
   "metadata": {},
   "outputs": [
    {
     "data": {
      "text/html": [
       "<div>\n",
       "<style scoped>\n",
       "    .dataframe tbody tr th:only-of-type {\n",
       "        vertical-align: middle;\n",
       "    }\n",
       "\n",
       "    .dataframe tbody tr th {\n",
       "        vertical-align: top;\n",
       "    }\n",
       "\n",
       "    .dataframe thead th {\n",
       "        text-align: right;\n",
       "    }\n",
       "</style>\n",
       "<table border=\"1\" class=\"dataframe\">\n",
       "  <thead>\n",
       "    <tr style=\"text-align: right;\">\n",
       "      <th></th>\n",
       "      <th>seq</th>\n",
       "      <th>label</th>\n",
       "      <th>fold</th>\n",
       "    </tr>\n",
       "  </thead>\n",
       "  <tbody>\n",
       "    <tr>\n",
       "      <th>0</th>\n",
       "      <td>[[0.0, 0.0, 0.0, 0.0, 0.0, 0.0, 0.0, 0.0, 0.0,...</td>\n",
       "      <td>1</td>\n",
       "      <td>4</td>\n",
       "    </tr>\n",
       "    <tr>\n",
       "      <th>1</th>\n",
       "      <td>[[0.0, 0.0, 0.0, 0.0, 0.0, 0.0, 0.0, 0.0, 0.0,...</td>\n",
       "      <td>1</td>\n",
       "      <td>0</td>\n",
       "    </tr>\n",
       "    <tr>\n",
       "      <th>2</th>\n",
       "      <td>[[0.0, 0.0, 0.0, 0.0, 0.0, 0.0, 0.0, 0.0, 0.0,...</td>\n",
       "      <td>1</td>\n",
       "      <td>3</td>\n",
       "    </tr>\n",
       "    <tr>\n",
       "      <th>3</th>\n",
       "      <td>[[0.0, 0.0, 0.0, 0.0, 0.0, 0.0, 0.0, 0.0, 0.0,...</td>\n",
       "      <td>1</td>\n",
       "      <td>2</td>\n",
       "    </tr>\n",
       "    <tr>\n",
       "      <th>4</th>\n",
       "      <td>[[0.0, 0.0, 0.0, 0.0, 0.0, 0.0, 0.0, 0.0, 0.0,...</td>\n",
       "      <td>1</td>\n",
       "      <td>1</td>\n",
       "    </tr>\n",
       "  </tbody>\n",
       "</table>\n",
       "</div>"
      ],
      "text/plain": [
       "                                                 seq  label  fold\n",
       "0  [[0.0, 0.0, 0.0, 0.0, 0.0, 0.0, 0.0, 0.0, 0.0,...      1     4\n",
       "1  [[0.0, 0.0, 0.0, 0.0, 0.0, 0.0, 0.0, 0.0, 0.0,...      1     0\n",
       "2  [[0.0, 0.0, 0.0, 0.0, 0.0, 0.0, 0.0, 0.0, 0.0,...      1     3\n",
       "3  [[0.0, 0.0, 0.0, 0.0, 0.0, 0.0, 0.0, 0.0, 0.0,...      1     2\n",
       "4  [[0.0, 0.0, 0.0, 0.0, 0.0, 0.0, 0.0, 0.0, 0.0,...      1     1"
      ]
     },
     "execution_count": 16,
     "metadata": {},
     "output_type": "execute_result"
    }
   ],
   "source": [
    "binary.head()"
   ]
  },
  {
   "cell_type": "code",
   "execution_count": 17,
   "id": "52df2c1e-c95a-41e3-b5ad-aef7be9e484c",
   "metadata": {},
   "outputs": [],
   "source": [
    "data['positive'] = data.label.apply(lambda x : 0 if 13 in x else 1)"
   ]
  },
  {
   "cell_type": "code",
   "execution_count": 18,
   "id": "e882c8b3-ff42-4fc9-9dbf-b3698d865037",
   "metadata": {},
   "outputs": [],
   "source": [
    "data = data[data.positive == 1].drop(columns=['positive'])"
   ]
  },
  {
   "cell_type": "code",
   "execution_count": 19,
   "id": "2bebb64f-bdbd-4304-b225-91c87c5ae9cf",
   "metadata": {},
   "outputs": [
    {
     "data": {
      "text/html": [
       "<div>\n",
       "<style scoped>\n",
       "    .dataframe tbody tr th:only-of-type {\n",
       "        vertical-align: middle;\n",
       "    }\n",
       "\n",
       "    .dataframe tbody tr th {\n",
       "        vertical-align: top;\n",
       "    }\n",
       "\n",
       "    .dataframe thead th {\n",
       "        text-align: right;\n",
       "    }\n",
       "</style>\n",
       "<table border=\"1\" class=\"dataframe\">\n",
       "  <thead>\n",
       "    <tr style=\"text-align: right;\">\n",
       "      <th></th>\n",
       "      <th>seq</th>\n",
       "      <th>label</th>\n",
       "      <th>fold</th>\n",
       "    </tr>\n",
       "  </thead>\n",
       "  <tbody>\n",
       "    <tr>\n",
       "      <th>0</th>\n",
       "      <td>[[0.0, 0.0, 0.0, 0.0, 0.0, 0.0, 0.0, 0.0, 0.0,...</td>\n",
       "      <td>[9, 10]</td>\n",
       "      <td>4</td>\n",
       "    </tr>\n",
       "    <tr>\n",
       "      <th>1</th>\n",
       "      <td>[[0.0, 0.0, 0.0, 0.0, 0.0, 0.0, 0.0, 0.0, 0.0,...</td>\n",
       "      <td>[9, 10]</td>\n",
       "      <td>0</td>\n",
       "    </tr>\n",
       "    <tr>\n",
       "      <th>2</th>\n",
       "      <td>[[0.0, 0.0, 0.0, 0.0, 0.0, 0.0, 0.0, 0.0, 0.0,...</td>\n",
       "      <td>[9, 10]</td>\n",
       "      <td>3</td>\n",
       "    </tr>\n",
       "    <tr>\n",
       "      <th>3</th>\n",
       "      <td>[[0.0, 0.0, 0.0, 0.0, 0.0, 0.0, 0.0, 0.0, 0.0,...</td>\n",
       "      <td>[9, 10]</td>\n",
       "      <td>2</td>\n",
       "    </tr>\n",
       "    <tr>\n",
       "      <th>4</th>\n",
       "      <td>[[0.0, 0.0, 0.0, 0.0, 0.0, 0.0, 0.0, 0.0, 0.0,...</td>\n",
       "      <td>[9, 10]</td>\n",
       "      <td>1</td>\n",
       "    </tr>\n",
       "  </tbody>\n",
       "</table>\n",
       "</div>"
      ],
      "text/plain": [
       "                                                 seq    label  fold\n",
       "0  [[0.0, 0.0, 0.0, 0.0, 0.0, 0.0, 0.0, 0.0, 0.0,...  [9, 10]     4\n",
       "1  [[0.0, 0.0, 0.0, 0.0, 0.0, 0.0, 0.0, 0.0, 0.0,...  [9, 10]     0\n",
       "2  [[0.0, 0.0, 0.0, 0.0, 0.0, 0.0, 0.0, 0.0, 0.0,...  [9, 10]     3\n",
       "3  [[0.0, 0.0, 0.0, 0.0, 0.0, 0.0, 0.0, 0.0, 0.0,...  [9, 10]     2\n",
       "4  [[0.0, 0.0, 0.0, 0.0, 0.0, 0.0, 0.0, 0.0, 0.0,...  [9, 10]     1"
      ]
     },
     "execution_count": 19,
     "metadata": {},
     "output_type": "execute_result"
    }
   ],
   "source": [
    "data.head()"
   ]
  },
  {
   "cell_type": "code",
   "execution_count": 20,
   "id": "c4180e10-0142-4251-9d22-21c0d8d711eb",
   "metadata": {},
   "outputs": [],
   "source": [
    "encoder = OneHotEncoder()\n",
    "encoder.fit(np.array([i for i in range(13)]).reshape(-1,1))\n",
    "\n",
    "data.label = data.label.apply(lambda x : encoder.transform(np.array(x).reshape(-1, 1)).toarray()[0])"
   ]
  },
  {
   "cell_type": "code",
   "execution_count": 21,
   "id": "0b3c864d-6a5b-4d28-86b6-7f30eb7b7c18",
   "metadata": {},
   "outputs": [
    {
     "data": {
      "text/html": [
       "<div>\n",
       "<style scoped>\n",
       "    .dataframe tbody tr th:only-of-type {\n",
       "        vertical-align: middle;\n",
       "    }\n",
       "\n",
       "    .dataframe tbody tr th {\n",
       "        vertical-align: top;\n",
       "    }\n",
       "\n",
       "    .dataframe thead th {\n",
       "        text-align: right;\n",
       "    }\n",
       "</style>\n",
       "<table border=\"1\" class=\"dataframe\">\n",
       "  <thead>\n",
       "    <tr style=\"text-align: right;\">\n",
       "      <th></th>\n",
       "      <th>seq</th>\n",
       "      <th>label</th>\n",
       "      <th>fold</th>\n",
       "    </tr>\n",
       "  </thead>\n",
       "  <tbody>\n",
       "    <tr>\n",
       "      <th>0</th>\n",
       "      <td>[[0.0, 0.0, 0.0, 0.0, 0.0, 0.0, 0.0, 0.0, 0.0,...</td>\n",
       "      <td>[0.0, 0.0, 0.0, 0.0, 0.0, 0.0, 0.0, 0.0, 0.0, ...</td>\n",
       "      <td>4</td>\n",
       "    </tr>\n",
       "    <tr>\n",
       "      <th>1</th>\n",
       "      <td>[[0.0, 0.0, 0.0, 0.0, 0.0, 0.0, 0.0, 0.0, 0.0,...</td>\n",
       "      <td>[0.0, 0.0, 0.0, 0.0, 0.0, 0.0, 0.0, 0.0, 0.0, ...</td>\n",
       "      <td>0</td>\n",
       "    </tr>\n",
       "    <tr>\n",
       "      <th>2</th>\n",
       "      <td>[[0.0, 0.0, 0.0, 0.0, 0.0, 0.0, 0.0, 0.0, 0.0,...</td>\n",
       "      <td>[0.0, 0.0, 0.0, 0.0, 0.0, 0.0, 0.0, 0.0, 0.0, ...</td>\n",
       "      <td>3</td>\n",
       "    </tr>\n",
       "    <tr>\n",
       "      <th>3</th>\n",
       "      <td>[[0.0, 0.0, 0.0, 0.0, 0.0, 0.0, 0.0, 0.0, 0.0,...</td>\n",
       "      <td>[0.0, 0.0, 0.0, 0.0, 0.0, 0.0, 0.0, 0.0, 0.0, ...</td>\n",
       "      <td>2</td>\n",
       "    </tr>\n",
       "    <tr>\n",
       "      <th>4</th>\n",
       "      <td>[[0.0, 0.0, 0.0, 0.0, 0.0, 0.0, 0.0, 0.0, 0.0,...</td>\n",
       "      <td>[0.0, 0.0, 0.0, 0.0, 0.0, 0.0, 0.0, 0.0, 0.0, ...</td>\n",
       "      <td>1</td>\n",
       "    </tr>\n",
       "  </tbody>\n",
       "</table>\n",
       "</div>"
      ],
      "text/plain": [
       "                                                 seq  \\\n",
       "0  [[0.0, 0.0, 0.0, 0.0, 0.0, 0.0, 0.0, 0.0, 0.0,...   \n",
       "1  [[0.0, 0.0, 0.0, 0.0, 0.0, 0.0, 0.0, 0.0, 0.0,...   \n",
       "2  [[0.0, 0.0, 0.0, 0.0, 0.0, 0.0, 0.0, 0.0, 0.0,...   \n",
       "3  [[0.0, 0.0, 0.0, 0.0, 0.0, 0.0, 0.0, 0.0, 0.0,...   \n",
       "4  [[0.0, 0.0, 0.0, 0.0, 0.0, 0.0, 0.0, 0.0, 0.0,...   \n",
       "\n",
       "                                               label  fold  \n",
       "0  [0.0, 0.0, 0.0, 0.0, 0.0, 0.0, 0.0, 0.0, 0.0, ...     4  \n",
       "1  [0.0, 0.0, 0.0, 0.0, 0.0, 0.0, 0.0, 0.0, 0.0, ...     0  \n",
       "2  [0.0, 0.0, 0.0, 0.0, 0.0, 0.0, 0.0, 0.0, 0.0, ...     3  \n",
       "3  [0.0, 0.0, 0.0, 0.0, 0.0, 0.0, 0.0, 0.0, 0.0, ...     2  \n",
       "4  [0.0, 0.0, 0.0, 0.0, 0.0, 0.0, 0.0, 0.0, 0.0, ...     1  "
      ]
     },
     "execution_count": 21,
     "metadata": {},
     "output_type": "execute_result"
    }
   ],
   "source": [
    "data.head()"
   ]
  },
  {
   "cell_type": "code",
   "execution_count": 22,
   "id": "fcf4ed38-bcea-4b9a-b08d-7a80178530b6",
   "metadata": {},
   "outputs": [
    {
     "data": {
      "text/html": [
       "<div>\n",
       "<style scoped>\n",
       "    .dataframe tbody tr th:only-of-type {\n",
       "        vertical-align: middle;\n",
       "    }\n",
       "\n",
       "    .dataframe tbody tr th {\n",
       "        vertical-align: top;\n",
       "    }\n",
       "\n",
       "    .dataframe thead th {\n",
       "        text-align: right;\n",
       "    }\n",
       "</style>\n",
       "<table border=\"1\" class=\"dataframe\">\n",
       "  <thead>\n",
       "    <tr style=\"text-align: right;\">\n",
       "      <th></th>\n",
       "      <th>seq</th>\n",
       "      <th>label</th>\n",
       "      <th>fold</th>\n",
       "    </tr>\n",
       "  </thead>\n",
       "  <tbody>\n",
       "    <tr>\n",
       "      <th>0</th>\n",
       "      <td>[[0.0, 0.0, 0.0, 0.0, 0.0, 0.0, 0.0, 0.0, 0.0,...</td>\n",
       "      <td>1</td>\n",
       "      <td>4</td>\n",
       "    </tr>\n",
       "    <tr>\n",
       "      <th>1</th>\n",
       "      <td>[[0.0, 0.0, 0.0, 0.0, 0.0, 0.0, 0.0, 0.0, 0.0,...</td>\n",
       "      <td>1</td>\n",
       "      <td>0</td>\n",
       "    </tr>\n",
       "    <tr>\n",
       "      <th>2</th>\n",
       "      <td>[[0.0, 0.0, 0.0, 0.0, 0.0, 0.0, 0.0, 0.0, 0.0,...</td>\n",
       "      <td>1</td>\n",
       "      <td>3</td>\n",
       "    </tr>\n",
       "    <tr>\n",
       "      <th>3</th>\n",
       "      <td>[[0.0, 0.0, 0.0, 0.0, 0.0, 0.0, 0.0, 0.0, 0.0,...</td>\n",
       "      <td>1</td>\n",
       "      <td>2</td>\n",
       "    </tr>\n",
       "    <tr>\n",
       "      <th>4</th>\n",
       "      <td>[[0.0, 0.0, 0.0, 0.0, 0.0, 0.0, 0.0, 0.0, 0.0,...</td>\n",
       "      <td>1</td>\n",
       "      <td>1</td>\n",
       "    </tr>\n",
       "  </tbody>\n",
       "</table>\n",
       "</div>"
      ],
      "text/plain": [
       "                                                 seq  label  fold\n",
       "0  [[0.0, 0.0, 0.0, 0.0, 0.0, 0.0, 0.0, 0.0, 0.0,...      1     4\n",
       "1  [[0.0, 0.0, 0.0, 0.0, 0.0, 0.0, 0.0, 0.0, 0.0,...      1     0\n",
       "2  [[0.0, 0.0, 0.0, 0.0, 0.0, 0.0, 0.0, 0.0, 0.0,...      1     3\n",
       "3  [[0.0, 0.0, 0.0, 0.0, 0.0, 0.0, 0.0, 0.0, 0.0,...      1     2\n",
       "4  [[0.0, 0.0, 0.0, 0.0, 0.0, 0.0, 0.0, 0.0, 0.0,...      1     1"
      ]
     },
     "execution_count": 22,
     "metadata": {},
     "output_type": "execute_result"
    }
   ],
   "source": [
    "binary.head()"
   ]
  },
  {
   "cell_type": "code",
   "execution_count": 23,
   "id": "7074d5c2-3168-43f8-a566-cf327d54d7e8",
   "metadata": {},
   "outputs": [
    {
     "data": {
      "text/html": [
       "<div>\n",
       "<style scoped>\n",
       "    .dataframe tbody tr th:only-of-type {\n",
       "        vertical-align: middle;\n",
       "    }\n",
       "\n",
       "    .dataframe tbody tr th {\n",
       "        vertical-align: top;\n",
       "    }\n",
       "\n",
       "    .dataframe thead th {\n",
       "        text-align: right;\n",
       "    }\n",
       "</style>\n",
       "<table border=\"1\" class=\"dataframe\">\n",
       "  <thead>\n",
       "    <tr style=\"text-align: right;\">\n",
       "      <th></th>\n",
       "      <th>seq</th>\n",
       "      <th>label</th>\n",
       "      <th>fold</th>\n",
       "    </tr>\n",
       "  </thead>\n",
       "  <tbody>\n",
       "    <tr>\n",
       "      <th>0</th>\n",
       "      <td>[[0.0, 0.0, 0.0, 0.0, 0.0, 0.0, 0.0, 0.0, 0.0,...</td>\n",
       "      <td>[0.0, 0.0, 0.0, 0.0, 0.0, 0.0, 0.0, 0.0, 0.0, ...</td>\n",
       "      <td>4</td>\n",
       "    </tr>\n",
       "    <tr>\n",
       "      <th>1</th>\n",
       "      <td>[[0.0, 0.0, 0.0, 0.0, 0.0, 0.0, 0.0, 0.0, 0.0,...</td>\n",
       "      <td>[0.0, 0.0, 0.0, 0.0, 0.0, 0.0, 0.0, 0.0, 0.0, ...</td>\n",
       "      <td>0</td>\n",
       "    </tr>\n",
       "    <tr>\n",
       "      <th>2</th>\n",
       "      <td>[[0.0, 0.0, 0.0, 0.0, 0.0, 0.0, 0.0, 0.0, 0.0,...</td>\n",
       "      <td>[0.0, 0.0, 0.0, 0.0, 0.0, 0.0, 0.0, 0.0, 0.0, ...</td>\n",
       "      <td>3</td>\n",
       "    </tr>\n",
       "    <tr>\n",
       "      <th>3</th>\n",
       "      <td>[[0.0, 0.0, 0.0, 0.0, 0.0, 0.0, 0.0, 0.0, 0.0,...</td>\n",
       "      <td>[0.0, 0.0, 0.0, 0.0, 0.0, 0.0, 0.0, 0.0, 0.0, ...</td>\n",
       "      <td>2</td>\n",
       "    </tr>\n",
       "    <tr>\n",
       "      <th>4</th>\n",
       "      <td>[[0.0, 0.0, 0.0, 0.0, 0.0, 0.0, 0.0, 0.0, 0.0,...</td>\n",
       "      <td>[0.0, 0.0, 0.0, 0.0, 0.0, 0.0, 0.0, 0.0, 0.0, ...</td>\n",
       "      <td>1</td>\n",
       "    </tr>\n",
       "  </tbody>\n",
       "</table>\n",
       "</div>"
      ],
      "text/plain": [
       "                                                 seq  \\\n",
       "0  [[0.0, 0.0, 0.0, 0.0, 0.0, 0.0, 0.0, 0.0, 0.0,...   \n",
       "1  [[0.0, 0.0, 0.0, 0.0, 0.0, 0.0, 0.0, 0.0, 0.0,...   \n",
       "2  [[0.0, 0.0, 0.0, 0.0, 0.0, 0.0, 0.0, 0.0, 0.0,...   \n",
       "3  [[0.0, 0.0, 0.0, 0.0, 0.0, 0.0, 0.0, 0.0, 0.0,...   \n",
       "4  [[0.0, 0.0, 0.0, 0.0, 0.0, 0.0, 0.0, 0.0, 0.0,...   \n",
       "\n",
       "                                               label  fold  \n",
       "0  [0.0, 0.0, 0.0, 0.0, 0.0, 0.0, 0.0, 0.0, 0.0, ...     4  \n",
       "1  [0.0, 0.0, 0.0, 0.0, 0.0, 0.0, 0.0, 0.0, 0.0, ...     0  \n",
       "2  [0.0, 0.0, 0.0, 0.0, 0.0, 0.0, 0.0, 0.0, 0.0, ...     3  \n",
       "3  [0.0, 0.0, 0.0, 0.0, 0.0, 0.0, 0.0, 0.0, 0.0, ...     2  \n",
       "4  [0.0, 0.0, 0.0, 0.0, 0.0, 0.0, 0.0, 0.0, 0.0, ...     1  "
      ]
     },
     "execution_count": 23,
     "metadata": {},
     "output_type": "execute_result"
    }
   ],
   "source": [
    "data.head()"
   ]
  },
  {
   "cell_type": "code",
   "execution_count": 24,
   "id": "81c498c6-e631-4e34-b1e0-c52f2f1b46e1",
   "metadata": {},
   "outputs": [
    {
     "data": {
      "text/html": [
       "<div>\n",
       "<style scoped>\n",
       "    .dataframe tbody tr th:only-of-type {\n",
       "        vertical-align: middle;\n",
       "    }\n",
       "\n",
       "    .dataframe tbody tr th {\n",
       "        vertical-align: top;\n",
       "    }\n",
       "\n",
       "    .dataframe thead th {\n",
       "        text-align: right;\n",
       "    }\n",
       "</style>\n",
       "<table border=\"1\" class=\"dataframe\">\n",
       "  <thead>\n",
       "    <tr style=\"text-align: right;\">\n",
       "      <th></th>\n",
       "      <th>seq</th>\n",
       "      <th>label</th>\n",
       "      <th>fold</th>\n",
       "    </tr>\n",
       "  </thead>\n",
       "  <tbody>\n",
       "    <tr>\n",
       "      <th>0</th>\n",
       "      <td>[[0.0, 0.0, 0.0, 0.0, 0.0, 0.0, 0.0, 0.0, 0.0,...</td>\n",
       "      <td>[9, 10]</td>\n",
       "      <td>4</td>\n",
       "    </tr>\n",
       "    <tr>\n",
       "      <th>1</th>\n",
       "      <td>[[0.0, 0.0, 0.0, 0.0, 0.0, 0.0, 0.0, 0.0, 0.0,...</td>\n",
       "      <td>[9, 10]</td>\n",
       "      <td>0</td>\n",
       "    </tr>\n",
       "    <tr>\n",
       "      <th>2</th>\n",
       "      <td>[[0.0, 0.0, 0.0, 0.0, 0.0, 0.0, 0.0, 0.0, 0.0,...</td>\n",
       "      <td>[9, 10]</td>\n",
       "      <td>3</td>\n",
       "    </tr>\n",
       "    <tr>\n",
       "      <th>3</th>\n",
       "      <td>[[0.0, 0.0, 0.0, 0.0, 0.0, 0.0, 0.0, 0.0, 0.0,...</td>\n",
       "      <td>[9, 10]</td>\n",
       "      <td>2</td>\n",
       "    </tr>\n",
       "    <tr>\n",
       "      <th>4</th>\n",
       "      <td>[[0.0, 0.0, 0.0, 0.0, 0.0, 0.0, 0.0, 0.0, 0.0,...</td>\n",
       "      <td>[9, 10]</td>\n",
       "      <td>1</td>\n",
       "    </tr>\n",
       "  </tbody>\n",
       "</table>\n",
       "</div>"
      ],
      "text/plain": [
       "                                                 seq    label  fold\n",
       "0  [[0.0, 0.0, 0.0, 0.0, 0.0, 0.0, 0.0, 0.0, 0.0,...  [9, 10]     4\n",
       "1  [[0.0, 0.0, 0.0, 0.0, 0.0, 0.0, 0.0, 0.0, 0.0,...  [9, 10]     0\n",
       "2  [[0.0, 0.0, 0.0, 0.0, 0.0, 0.0, 0.0, 0.0, 0.0,...  [9, 10]     3\n",
       "3  [[0.0, 0.0, 0.0, 0.0, 0.0, 0.0, 0.0, 0.0, 0.0,...  [9, 10]     2\n",
       "4  [[0.0, 0.0, 0.0, 0.0, 0.0, 0.0, 0.0, 0.0, 0.0,...  [9, 10]     1"
      ]
     },
     "execution_count": 24,
     "metadata": {},
     "output_type": "execute_result"
    }
   ],
   "source": [
    "combined.head()"
   ]
  },
  {
   "cell_type": "code",
   "execution_count": 25,
   "id": "d911cb76-7434-476e-ae17-c4cf591ab589",
   "metadata": {},
   "outputs": [],
   "source": [
    "binary = binary.to_numpy()\n",
    "    \n",
    "with open(f'./data/one_hot_binary.npy', 'wb+') as f:\n",
    "    np.save(f, binary)"
   ]
  },
  {
   "cell_type": "code",
   "execution_count": 26,
   "id": "0c4f4214-f079-4c11-a085-4d5199c6c59a",
   "metadata": {},
   "outputs": [],
   "source": [
    "data = data.to_numpy()\n",
    "    \n",
    "with open(f'./data/one_hot_labels.npy', 'wb+') as f:\n",
    "    np.save(f, data)"
   ]
  },
  {
   "cell_type": "code",
   "execution_count": 27,
   "id": "f19ef31c-64d3-4394-a3d1-eafb31d23c8d",
   "metadata": {},
   "outputs": [],
   "source": [
    "encoder = OneHotEncoder()\n",
    "encoder.fit(np.array([i for i in range(14)]).reshape(-1,1))\n",
    "\n",
    "combined.label = combined.label.apply(lambda x : encoder.transform(np.array(x).reshape(-1, 1)).toarray()[0])\n",
    "test.label = test.label.apply(lambda x : encoder.transform(np.array(x).reshape(-1, 1)).toarray()[0])"
   ]
  },
  {
   "cell_type": "code",
   "execution_count": 28,
   "id": "9db88331-6044-4531-8ef9-2dec4171c3a6",
   "metadata": {},
   "outputs": [],
   "source": [
    "combined = combined.to_numpy()\n",
    "    \n",
    "with open(f'./data/one_hot_combined.npy', 'wb+') as f:\n",
    "    np.save(f, combined)"
   ]
  },
  {
   "cell_type": "code",
   "execution_count": 29,
   "id": "8daea38f-26bf-46a7-be7f-d0a910e0d908",
   "metadata": {},
   "outputs": [],
   "source": [
    "test = test.to_numpy()\n",
    "    \n",
    "with open(f'./data/one_hot_test.npy', 'wb+') as f:\n",
    "    np.save(f, test)"
   ]
  },
  {
   "cell_type": "code",
   "execution_count": null,
   "id": "968e1f2a-5bd6-486d-9709-0e60d8b86c9f",
   "metadata": {},
   "outputs": [],
   "source": []
  }
 ],
 "metadata": {
  "kernelspec": {
   "display_name": "venv",
   "language": "python",
   "name": "venv"
  },
  "language_info": {
   "codemirror_mode": {
    "name": "ipython",
    "version": 3
   },
   "file_extension": ".py",
   "mimetype": "text/x-python",
   "name": "python",
   "nbconvert_exporter": "python",
   "pygments_lexer": "ipython3",
   "version": "3.9.16"
  }
 },
 "nbformat": 4,
 "nbformat_minor": 5
}
